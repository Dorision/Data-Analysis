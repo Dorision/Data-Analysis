{
 "cells": [
  {
   "cell_type": "code",
   "execution_count": 11,
   "metadata": {},
   "outputs": [
    {
     "name": "stdout",
     "output_type": "stream",
     "text": [
      "0.88778280543\n"
     ]
    }
   ],
   "source": [
    "\n",
    "import sklearn\n",
    "import pandas as pd\n",
    "import numpy as np\n",
    "from sklearn import metrics\n",
    "from sklearn.metrics import accuracy_score\n",
    "from sklearn.model_selection import train_test_split\n",
    "from sklearn.feature_extraction.text import CountVectorizer\n",
    "from sklearn.feature_extraction.text import TfidfTransformer\n",
    "\n",
    "\n",
    "#read csv data\n",
    "\n",
    "df=pd.read_csv('language_classification.csv')\n",
    "\n",
    "df = df.dropna()\n",
    "\n",
    "vect=CountVectorizer()\n",
    "X_vectorizer= vect.fit_transform(df.text.values)\n",
    "X_tfidf=TfidfTransformer().fit_transform(X_vectorizer)\n",
    "X_vectorizer=X_vectorizer.todense()\n",
    "\n",
    "\n",
    "\n",
    "\n",
    "Y=df['language'].values\n",
    "\n",
    "#split the data\n",
    "#organize data\n",
    "\n",
    "\n",
    "\n",
    "\n",
    "train, test, train_Y, test_Y = train_test_split(X_vectorizer, Y, test_size=0.4, random_state=42)\n",
    "\n",
    "#choose model\n",
    "from sklearn.naive_bayes import GaussianNB\n",
    "gnb=GaussianNB()\n",
    "\n",
    "#train our classifier\n",
    "\n",
    "model=gnb.fit(train,train_Y)\n",
    "\n",
    "#make predictions\n",
    "preds=gnb.predict(test)\n",
    "\n",
    "#evaluate accuracy\n",
    "print(accuracy_score(test_Y, preds))"
   ]
  },
  {
   "cell_type": "code",
   "execution_count": null,
   "metadata": {
    "collapsed": true
   },
   "outputs": [],
   "source": [
    " "
   ]
  }
 ],
 "metadata": {
  "kernelspec": {
   "display_name": "Python 3",
   "language": "python",
   "name": "python3"
  },
  "language_info": {
   "codemirror_mode": {
    "name": "ipython",
    "version": 3
   },
   "file_extension": ".py",
   "mimetype": "text/x-python",
   "name": "python",
   "nbconvert_exporter": "python",
   "pygments_lexer": "ipython3",
   "version": "3.6.3"
  }
 },
 "nbformat": 4,
 "nbformat_minor": 2
}
